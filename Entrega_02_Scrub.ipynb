{
  "nbformat": 4,
  "nbformat_minor": 0,
  "metadata": {
    "colab": {
      "provenance": [],
      "include_colab_link": true
    },
    "kernelspec": {
      "name": "python3",
      "display_name": "Python 3"
    },
    "language_info": {
      "name": "python"
    }
  },
  "cells": [
    {
      "cell_type": "markdown",
      "metadata": {
        "id": "view-in-github",
        "colab_type": "text"
      },
      "source": [
        "<a href=\"https://colab.research.google.com/github/Sudaiii/Proyecto-ML/blob/main/Entrega_02_Scrub.ipynb\" target=\"_parent\"><img src=\"https://colab.research.google.com/assets/colab-badge.svg\" alt=\"Open In Colab\"/></a>"
      ]
    },
    {
      "cell_type": "markdown",
      "source": [
        "## Proyecto Final - Reconocimiento de Actividad Humana (HAR)\n"
      ],
      "metadata": {
        "id": "0z-T0YDwxAXq"
      }
    },
    {
      "cell_type": "code",
      "execution_count": 153,
      "metadata": {
        "id": "bzVprbfpWSLa"
      },
      "outputs": [],
      "source": [
        "import tensorflow as tf\n",
        "import pandas as pd\n",
        "import numpy as np\n",
        "import matplotlib.pyplot as plt\n",
        "from sklearn.preprocessing import StandardScaler, LabelEncoder"
      ]
    },
    {
      "cell_type": "markdown",
      "source": [
        "###Entrega 01 - OBTAIN"
      ],
      "metadata": {
        "id": "UR9cAy_ExKGq"
      }
    },
    {
      "cell_type": "markdown",
      "source": [
        "Incluir todo el código de la Etapa 01 - OBTAIN creada en la semana anterior"
      ],
      "metadata": {
        "id": "IbSKJtMLaG9e"
      }
    },
    {
      "cell_type": "code",
      "source": [
        "url = \"https://drive.google.com/file/d/1Myzc7VaWS_9lpnm9smWMV_eNLPoLlzSL/view?usp=share_link\"\n",
        "url = \"https://drive.google.com/uc?id=\" + url.split('/')[-2]\n",
        "\n",
        "wisdm = pd.read_csv(url, on_bad_lines=\"skip\", header=None,)\n",
        "wisdm.head()"
      ],
      "metadata": {
        "id": "nQsWnulDWdDD",
        "colab": {
          "base_uri": "https://localhost:8080/",
          "height": 206
        },
        "outputId": "e6d404d7-1bcf-4ce2-c2fd-44a665d313bf"
      },
      "execution_count": 154,
      "outputs": [
        {
          "output_type": "execute_result",
          "data": {
            "text/plain": [
              "    0        1               2         3          4             5\n",
              "0  33  Jogging  49105962326000 -0.694638  12.680544   0.50395286;\n",
              "1  33  Jogging  49106062271000  5.012288  11.264028   0.95342433;\n",
              "2  33  Jogging  49106112167000  4.903325  10.882658  -0.08172209;\n",
              "3  33  Jogging  49106222305000 -0.612916  18.496431    3.0237172;\n",
              "4  33  Jogging  49106332290000 -1.184970  12.108489     7.205164;"
            ],
            "text/html": [
              "\n",
              "  <div id=\"df-a9375c00-e385-45cb-be22-02de6286c7c9\">\n",
              "    <div class=\"colab-df-container\">\n",
              "      <div>\n",
              "<style scoped>\n",
              "    .dataframe tbody tr th:only-of-type {\n",
              "        vertical-align: middle;\n",
              "    }\n",
              "\n",
              "    .dataframe tbody tr th {\n",
              "        vertical-align: top;\n",
              "    }\n",
              "\n",
              "    .dataframe thead th {\n",
              "        text-align: right;\n",
              "    }\n",
              "</style>\n",
              "<table border=\"1\" class=\"dataframe\">\n",
              "  <thead>\n",
              "    <tr style=\"text-align: right;\">\n",
              "      <th></th>\n",
              "      <th>0</th>\n",
              "      <th>1</th>\n",
              "      <th>2</th>\n",
              "      <th>3</th>\n",
              "      <th>4</th>\n",
              "      <th>5</th>\n",
              "    </tr>\n",
              "  </thead>\n",
              "  <tbody>\n",
              "    <tr>\n",
              "      <th>0</th>\n",
              "      <td>33</td>\n",
              "      <td>Jogging</td>\n",
              "      <td>49105962326000</td>\n",
              "      <td>-0.694638</td>\n",
              "      <td>12.680544</td>\n",
              "      <td>0.50395286;</td>\n",
              "    </tr>\n",
              "    <tr>\n",
              "      <th>1</th>\n",
              "      <td>33</td>\n",
              "      <td>Jogging</td>\n",
              "      <td>49106062271000</td>\n",
              "      <td>5.012288</td>\n",
              "      <td>11.264028</td>\n",
              "      <td>0.95342433;</td>\n",
              "    </tr>\n",
              "    <tr>\n",
              "      <th>2</th>\n",
              "      <td>33</td>\n",
              "      <td>Jogging</td>\n",
              "      <td>49106112167000</td>\n",
              "      <td>4.903325</td>\n",
              "      <td>10.882658</td>\n",
              "      <td>-0.08172209;</td>\n",
              "    </tr>\n",
              "    <tr>\n",
              "      <th>3</th>\n",
              "      <td>33</td>\n",
              "      <td>Jogging</td>\n",
              "      <td>49106222305000</td>\n",
              "      <td>-0.612916</td>\n",
              "      <td>18.496431</td>\n",
              "      <td>3.0237172;</td>\n",
              "    </tr>\n",
              "    <tr>\n",
              "      <th>4</th>\n",
              "      <td>33</td>\n",
              "      <td>Jogging</td>\n",
              "      <td>49106332290000</td>\n",
              "      <td>-1.184970</td>\n",
              "      <td>12.108489</td>\n",
              "      <td>7.205164;</td>\n",
              "    </tr>\n",
              "  </tbody>\n",
              "</table>\n",
              "</div>\n",
              "      <button class=\"colab-df-convert\" onclick=\"convertToInteractive('df-a9375c00-e385-45cb-be22-02de6286c7c9')\"\n",
              "              title=\"Convert this dataframe to an interactive table.\"\n",
              "              style=\"display:none;\">\n",
              "        \n",
              "  <svg xmlns=\"http://www.w3.org/2000/svg\" height=\"24px\"viewBox=\"0 0 24 24\"\n",
              "       width=\"24px\">\n",
              "    <path d=\"M0 0h24v24H0V0z\" fill=\"none\"/>\n",
              "    <path d=\"M18.56 5.44l.94 2.06.94-2.06 2.06-.94-2.06-.94-.94-2.06-.94 2.06-2.06.94zm-11 1L8.5 8.5l.94-2.06 2.06-.94-2.06-.94L8.5 2.5l-.94 2.06-2.06.94zm10 10l.94 2.06.94-2.06 2.06-.94-2.06-.94-.94-2.06-.94 2.06-2.06.94z\"/><path d=\"M17.41 7.96l-1.37-1.37c-.4-.4-.92-.59-1.43-.59-.52 0-1.04.2-1.43.59L10.3 9.45l-7.72 7.72c-.78.78-.78 2.05 0 2.83L4 21.41c.39.39.9.59 1.41.59.51 0 1.02-.2 1.41-.59l7.78-7.78 2.81-2.81c.8-.78.8-2.07 0-2.86zM5.41 20L4 18.59l7.72-7.72 1.47 1.35L5.41 20z\"/>\n",
              "  </svg>\n",
              "      </button>\n",
              "      \n",
              "  <style>\n",
              "    .colab-df-container {\n",
              "      display:flex;\n",
              "      flex-wrap:wrap;\n",
              "      gap: 12px;\n",
              "    }\n",
              "\n",
              "    .colab-df-convert {\n",
              "      background-color: #E8F0FE;\n",
              "      border: none;\n",
              "      border-radius: 50%;\n",
              "      cursor: pointer;\n",
              "      display: none;\n",
              "      fill: #1967D2;\n",
              "      height: 32px;\n",
              "      padding: 0 0 0 0;\n",
              "      width: 32px;\n",
              "    }\n",
              "\n",
              "    .colab-df-convert:hover {\n",
              "      background-color: #E2EBFA;\n",
              "      box-shadow: 0px 1px 2px rgba(60, 64, 67, 0.3), 0px 1px 3px 1px rgba(60, 64, 67, 0.15);\n",
              "      fill: #174EA6;\n",
              "    }\n",
              "\n",
              "    [theme=dark] .colab-df-convert {\n",
              "      background-color: #3B4455;\n",
              "      fill: #D2E3FC;\n",
              "    }\n",
              "\n",
              "    [theme=dark] .colab-df-convert:hover {\n",
              "      background-color: #434B5C;\n",
              "      box-shadow: 0px 1px 3px 1px rgba(0, 0, 0, 0.15);\n",
              "      filter: drop-shadow(0px 1px 2px rgba(0, 0, 0, 0.3));\n",
              "      fill: #FFFFFF;\n",
              "    }\n",
              "  </style>\n",
              "\n",
              "      <script>\n",
              "        const buttonEl =\n",
              "          document.querySelector('#df-a9375c00-e385-45cb-be22-02de6286c7c9 button.colab-df-convert');\n",
              "        buttonEl.style.display =\n",
              "          google.colab.kernel.accessAllowed ? 'block' : 'none';\n",
              "\n",
              "        async function convertToInteractive(key) {\n",
              "          const element = document.querySelector('#df-a9375c00-e385-45cb-be22-02de6286c7c9');\n",
              "          const dataTable =\n",
              "            await google.colab.kernel.invokeFunction('convertToInteractive',\n",
              "                                                     [key], {});\n",
              "          if (!dataTable) return;\n",
              "\n",
              "          const docLinkHtml = 'Like what you see? Visit the ' +\n",
              "            '<a target=\"_blank\" href=https://colab.research.google.com/notebooks/data_table.ipynb>data table notebook</a>'\n",
              "            + ' to learn more about interactive tables.';\n",
              "          element.innerHTML = '';\n",
              "          dataTable['output_type'] = 'display_data';\n",
              "          await google.colab.output.renderOutput(dataTable, element);\n",
              "          const docLink = document.createElement('div');\n",
              "          docLink.innerHTML = docLinkHtml;\n",
              "          element.appendChild(docLink);\n",
              "        }\n",
              "      </script>\n",
              "    </div>\n",
              "  </div>\n",
              "  "
            ]
          },
          "metadata": {},
          "execution_count": 154
        }
      ]
    },
    {
      "cell_type": "markdown",
      "source": [
        "###Entrega 02 - SCRUB"
      ],
      "metadata": {
        "id": "bC-qNw90xMbm"
      }
    },
    {
      "cell_type": "markdown",
      "source": [
        "Eliminar filas con datos faltantes"
      ],
      "metadata": {
        "id": "tjz8vKIndc9x"
      }
    },
    {
      "cell_type": "markdown",
      "source": [
        "*Uno de los pasos iniciales en la limpieza de datos consiste en eliminar aquellas filas que contengan datos faltantes. Estas líneas generalmente no aportan información y pueden complicar la etapa de entrenamiento y validación de muchos modelos predictivos.*\n"
      ],
      "metadata": {
        "id": "2gdFhS7ueHhz"
      }
    },
    {
      "cell_type": "code",
      "source": [
        "wisdm.isnull().sum()"
      ],
      "metadata": {
        "colab": {
          "base_uri": "https://localhost:8080/"
        },
        "id": "FPg26zXvXt_I",
        "outputId": "7ca2397a-973c-4965-cdf2-c2420a05c0d8"
      },
      "execution_count": 155,
      "outputs": [
        {
          "output_type": "execute_result",
          "data": {
            "text/plain": [
              "0    0\n",
              "1    0\n",
              "2    0\n",
              "3    0\n",
              "4    0\n",
              "5    1\n",
              "dtype: int64"
            ]
          },
          "metadata": {},
          "execution_count": 155
        }
      ]
    },
    {
      "cell_type": "code",
      "source": [
        "wisdm = wisdm.dropna()\n",
        "wisdm.isnull().sum()"
      ],
      "metadata": {
        "colab": {
          "base_uri": "https://localhost:8080/"
        },
        "id": "UmXHXiyC3Yrb",
        "outputId": "a7354d96-7c13-44db-93e7-394b4f164e31"
      },
      "execution_count": 156,
      "outputs": [
        {
          "output_type": "execute_result",
          "data": {
            "text/plain": [
              "0    0\n",
              "1    0\n",
              "2    0\n",
              "3    0\n",
              "4    0\n",
              "5    0\n",
              "dtype: int64"
            ]
          },
          "metadata": {},
          "execution_count": 156
        }
      ]
    },
    {
      "cell_type": "markdown",
      "source": [
        "Agregar al DataFrame los nombres de las columnas "
      ],
      "metadata": {
        "id": "bv2K6JyupHmz"
      }
    },
    {
      "cell_type": "markdown",
      "source": [
        "*En ocasiones al crear los data frames el sistema asigna nombres genéricos y correlativos a las columnas. Es recomendable renombrar las columnas por nombres significativos para favorecer el análisis posterior de los datos.*"
      ],
      "metadata": {
        "id": "LDaBkEj8eiWO"
      }
    },
    {
      "cell_type": "code",
      "source": [
        "wisdm.columns = [\"user\", \"activity\", \"timestamp\", \"x-accel\", \"y-accel\", \"z-accel\"]"
      ],
      "metadata": {
        "id": "IlHr1LMyb7SW"
      },
      "execution_count": 157,
      "outputs": []
    },
    {
      "cell_type": "markdown",
      "source": [
        "Visualizar las 5 primeras filas del DataFrame (.head())"
      ],
      "metadata": {
        "id": "ycA0bML1b7v-"
      }
    },
    {
      "cell_type": "markdown",
      "source": [
        "*Siempre es buena medida visualizar algunas líneas del dataframe para tener una idea concreta del contenido.*\n"
      ],
      "metadata": {
        "id": "B8A6SUZvduds"
      }
    },
    {
      "cell_type": "code",
      "source": [
        "wisdm.head()"
      ],
      "metadata": {
        "colab": {
          "base_uri": "https://localhost:8080/",
          "height": 206
        },
        "id": "T3m_GCUxX-NL",
        "outputId": "62dd7f33-5a9d-4b7b-e8cc-231c3c7076c0"
      },
      "execution_count": 158,
      "outputs": [
        {
          "output_type": "execute_result",
          "data": {
            "text/plain": [
              "   user activity       timestamp   x-accel    y-accel       z-accel\n",
              "0    33  Jogging  49105962326000 -0.694638  12.680544   0.50395286;\n",
              "1    33  Jogging  49106062271000  5.012288  11.264028   0.95342433;\n",
              "2    33  Jogging  49106112167000  4.903325  10.882658  -0.08172209;\n",
              "3    33  Jogging  49106222305000 -0.612916  18.496431    3.0237172;\n",
              "4    33  Jogging  49106332290000 -1.184970  12.108489     7.205164;"
            ],
            "text/html": [
              "\n",
              "  <div id=\"df-8ec39dcb-13d8-4c7d-8057-b3c8ae551d41\">\n",
              "    <div class=\"colab-df-container\">\n",
              "      <div>\n",
              "<style scoped>\n",
              "    .dataframe tbody tr th:only-of-type {\n",
              "        vertical-align: middle;\n",
              "    }\n",
              "\n",
              "    .dataframe tbody tr th {\n",
              "        vertical-align: top;\n",
              "    }\n",
              "\n",
              "    .dataframe thead th {\n",
              "        text-align: right;\n",
              "    }\n",
              "</style>\n",
              "<table border=\"1\" class=\"dataframe\">\n",
              "  <thead>\n",
              "    <tr style=\"text-align: right;\">\n",
              "      <th></th>\n",
              "      <th>user</th>\n",
              "      <th>activity</th>\n",
              "      <th>timestamp</th>\n",
              "      <th>x-accel</th>\n",
              "      <th>y-accel</th>\n",
              "      <th>z-accel</th>\n",
              "    </tr>\n",
              "  </thead>\n",
              "  <tbody>\n",
              "    <tr>\n",
              "      <th>0</th>\n",
              "      <td>33</td>\n",
              "      <td>Jogging</td>\n",
              "      <td>49105962326000</td>\n",
              "      <td>-0.694638</td>\n",
              "      <td>12.680544</td>\n",
              "      <td>0.50395286;</td>\n",
              "    </tr>\n",
              "    <tr>\n",
              "      <th>1</th>\n",
              "      <td>33</td>\n",
              "      <td>Jogging</td>\n",
              "      <td>49106062271000</td>\n",
              "      <td>5.012288</td>\n",
              "      <td>11.264028</td>\n",
              "      <td>0.95342433;</td>\n",
              "    </tr>\n",
              "    <tr>\n",
              "      <th>2</th>\n",
              "      <td>33</td>\n",
              "      <td>Jogging</td>\n",
              "      <td>49106112167000</td>\n",
              "      <td>4.903325</td>\n",
              "      <td>10.882658</td>\n",
              "      <td>-0.08172209;</td>\n",
              "    </tr>\n",
              "    <tr>\n",
              "      <th>3</th>\n",
              "      <td>33</td>\n",
              "      <td>Jogging</td>\n",
              "      <td>49106222305000</td>\n",
              "      <td>-0.612916</td>\n",
              "      <td>18.496431</td>\n",
              "      <td>3.0237172;</td>\n",
              "    </tr>\n",
              "    <tr>\n",
              "      <th>4</th>\n",
              "      <td>33</td>\n",
              "      <td>Jogging</td>\n",
              "      <td>49106332290000</td>\n",
              "      <td>-1.184970</td>\n",
              "      <td>12.108489</td>\n",
              "      <td>7.205164;</td>\n",
              "    </tr>\n",
              "  </tbody>\n",
              "</table>\n",
              "</div>\n",
              "      <button class=\"colab-df-convert\" onclick=\"convertToInteractive('df-8ec39dcb-13d8-4c7d-8057-b3c8ae551d41')\"\n",
              "              title=\"Convert this dataframe to an interactive table.\"\n",
              "              style=\"display:none;\">\n",
              "        \n",
              "  <svg xmlns=\"http://www.w3.org/2000/svg\" height=\"24px\"viewBox=\"0 0 24 24\"\n",
              "       width=\"24px\">\n",
              "    <path d=\"M0 0h24v24H0V0z\" fill=\"none\"/>\n",
              "    <path d=\"M18.56 5.44l.94 2.06.94-2.06 2.06-.94-2.06-.94-.94-2.06-.94 2.06-2.06.94zm-11 1L8.5 8.5l.94-2.06 2.06-.94-2.06-.94L8.5 2.5l-.94 2.06-2.06.94zm10 10l.94 2.06.94-2.06 2.06-.94-2.06-.94-.94-2.06-.94 2.06-2.06.94z\"/><path d=\"M17.41 7.96l-1.37-1.37c-.4-.4-.92-.59-1.43-.59-.52 0-1.04.2-1.43.59L10.3 9.45l-7.72 7.72c-.78.78-.78 2.05 0 2.83L4 21.41c.39.39.9.59 1.41.59.51 0 1.02-.2 1.41-.59l7.78-7.78 2.81-2.81c.8-.78.8-2.07 0-2.86zM5.41 20L4 18.59l7.72-7.72 1.47 1.35L5.41 20z\"/>\n",
              "  </svg>\n",
              "      </button>\n",
              "      \n",
              "  <style>\n",
              "    .colab-df-container {\n",
              "      display:flex;\n",
              "      flex-wrap:wrap;\n",
              "      gap: 12px;\n",
              "    }\n",
              "\n",
              "    .colab-df-convert {\n",
              "      background-color: #E8F0FE;\n",
              "      border: none;\n",
              "      border-radius: 50%;\n",
              "      cursor: pointer;\n",
              "      display: none;\n",
              "      fill: #1967D2;\n",
              "      height: 32px;\n",
              "      padding: 0 0 0 0;\n",
              "      width: 32px;\n",
              "    }\n",
              "\n",
              "    .colab-df-convert:hover {\n",
              "      background-color: #E2EBFA;\n",
              "      box-shadow: 0px 1px 2px rgba(60, 64, 67, 0.3), 0px 1px 3px 1px rgba(60, 64, 67, 0.15);\n",
              "      fill: #174EA6;\n",
              "    }\n",
              "\n",
              "    [theme=dark] .colab-df-convert {\n",
              "      background-color: #3B4455;\n",
              "      fill: #D2E3FC;\n",
              "    }\n",
              "\n",
              "    [theme=dark] .colab-df-convert:hover {\n",
              "      background-color: #434B5C;\n",
              "      box-shadow: 0px 1px 3px 1px rgba(0, 0, 0, 0.15);\n",
              "      filter: drop-shadow(0px 1px 2px rgba(0, 0, 0, 0.3));\n",
              "      fill: #FFFFFF;\n",
              "    }\n",
              "  </style>\n",
              "\n",
              "      <script>\n",
              "        const buttonEl =\n",
              "          document.querySelector('#df-8ec39dcb-13d8-4c7d-8057-b3c8ae551d41 button.colab-df-convert');\n",
              "        buttonEl.style.display =\n",
              "          google.colab.kernel.accessAllowed ? 'block' : 'none';\n",
              "\n",
              "        async function convertToInteractive(key) {\n",
              "          const element = document.querySelector('#df-8ec39dcb-13d8-4c7d-8057-b3c8ae551d41');\n",
              "          const dataTable =\n",
              "            await google.colab.kernel.invokeFunction('convertToInteractive',\n",
              "                                                     [key], {});\n",
              "          if (!dataTable) return;\n",
              "\n",
              "          const docLinkHtml = 'Like what you see? Visit the ' +\n",
              "            '<a target=\"_blank\" href=https://colab.research.google.com/notebooks/data_table.ipynb>data table notebook</a>'\n",
              "            + ' to learn more about interactive tables.';\n",
              "          element.innerHTML = '';\n",
              "          dataTable['output_type'] = 'display_data';\n",
              "          await google.colab.output.renderOutput(dataTable, element);\n",
              "          const docLink = document.createElement('div');\n",
              "          docLink.innerHTML = docLinkHtml;\n",
              "          element.appendChild(docLink);\n",
              "        }\n",
              "      </script>\n",
              "    </div>\n",
              "  </div>\n",
              "  "
            ]
          },
          "metadata": {},
          "execution_count": 158
        }
      ]
    },
    {
      "cell_type": "markdown",
      "source": [
        "Buscar datos nulos y eliminarlos si es que existen"
      ],
      "metadata": {
        "id": "kMz3ML3cpY2g"
      }
    },
    {
      "cell_type": "code",
      "source": [
        "# ¿De nuevo?"
      ],
      "metadata": {
        "id": "Dwqj39f7cWjr"
      },
      "execution_count": 159,
      "outputs": []
    },
    {
      "cell_type": "markdown",
      "source": [
        "Visualizar los tipo de datos a los que pertenece cada columna (.info())"
      ],
      "metadata": {
        "id": "LPSZ0Q2opgPE"
      }
    },
    {
      "cell_type": "markdown",
      "source": [
        "*Es necesario tener un detalle de cuantas variables están considerando y el tipo de datos que pertenecen para verificar si es posible utilizarla directamente para el modelo predictivo o si es necesario realizar una transformación del tipo de dato.*\n"
      ],
      "metadata": {
        "id": "Gdrmlh8pd6cn"
      }
    },
    {
      "cell_type": "code",
      "source": [
        "wisdm.info()"
      ],
      "metadata": {
        "id": "VIYzcn74ck71",
        "colab": {
          "base_uri": "https://localhost:8080/"
        },
        "outputId": "f2bab905-c82b-4e57-9dee-1ba573e4e473"
      },
      "execution_count": 160,
      "outputs": [
        {
          "output_type": "stream",
          "name": "stdout",
          "text": [
            "<class 'pandas.core.frame.DataFrame'>\n",
            "Int64Index: 1086465 entries, 0 to 1086465\n",
            "Data columns (total 6 columns):\n",
            " #   Column     Non-Null Count    Dtype  \n",
            "---  ------     --------------    -----  \n",
            " 0   user       1086465 non-null  int64  \n",
            " 1   activity   1086465 non-null  object \n",
            " 2   timestamp  1086465 non-null  int64  \n",
            " 3   x-accel    1086465 non-null  float64\n",
            " 4   y-accel    1086465 non-null  float64\n",
            " 5   z-accel    1086465 non-null  object \n",
            "dtypes: float64(2), int64(2), object(2)\n",
            "memory usage: 58.0+ MB\n"
          ]
        }
      ]
    },
    {
      "cell_type": "markdown",
      "source": [
        "Cambiar el tipo de datos de las variables predictoras a valores reales, para realizar la clasificación "
      ],
      "metadata": {
        "id": "qdcCm83JscaS"
      }
    },
    {
      "cell_type": "markdown",
      "source": [
        "*Muchas de las variables contenidas en el DataFrame originalmente se encuentran en el tipo de dato 'object'. En ese formato las variables no pueden ser interpretadas como vectores. Recordemos que la mayoría de los modelos de Machine Learning estudiados operan en el espacio vectorial. Por esta razón las variables que formarán parte del modelo predictivo deben ser transformadas a un formato numérico como 'Float' o 'integer'.*\n",
        "\n",
        "Para este proyecto en particular se pide transformar  al tipo de dato Float, las variables del acelerómetro en el eje $x$, $y$ y $z$\n",
        "\n"
      ],
      "metadata": {
        "id": "ipuDtqTRdCdJ"
      }
    },
    {
      "cell_type": "code",
      "source": [
        "wisdm[\"z-accel\"] = wisdm[\"z-accel\"].str.replace(\";\", \"\").astype(float)"
      ],
      "metadata": {
        "id": "Pbv3aPPCYtjn"
      },
      "execution_count": 161,
      "outputs": []
    },
    {
      "cell_type": "markdown",
      "source": [
        "Imprimir los tipos de datos de las variables del DataFrame"
      ],
      "metadata": {
        "id": "bysEjuHzfplV"
      }
    },
    {
      "cell_type": "markdown",
      "source": [
        "*Se recomienda volver a ejecutar el comando info para verificar que efectivamente las variables cambiaron su tipo de dato y que ahora se pueden procesar con los modelos predictivos.*\n"
      ],
      "metadata": {
        "id": "4b8SkBblsibw"
      }
    },
    {
      "cell_type": "code",
      "source": [
        "wisdm.info()"
      ],
      "metadata": {
        "colab": {
          "base_uri": "https://localhost:8080/"
        },
        "id": "iFg21lA8Y6uQ",
        "outputId": "3e137364-8ddf-4826-bb41-e93ef8ea41a8"
      },
      "execution_count": 162,
      "outputs": [
        {
          "output_type": "stream",
          "name": "stdout",
          "text": [
            "<class 'pandas.core.frame.DataFrame'>\n",
            "Int64Index: 1086465 entries, 0 to 1086465\n",
            "Data columns (total 6 columns):\n",
            " #   Column     Non-Null Count    Dtype  \n",
            "---  ------     --------------    -----  \n",
            " 0   user       1086465 non-null  int64  \n",
            " 1   activity   1086465 non-null  object \n",
            " 2   timestamp  1086465 non-null  int64  \n",
            " 3   x-accel    1086465 non-null  float64\n",
            " 4   y-accel    1086465 non-null  float64\n",
            " 5   z-accel    1086465 non-null  float64\n",
            "dtypes: float64(3), int64(2), object(1)\n",
            "memory usage: 58.0+ MB\n"
          ]
        }
      ]
    },
    {
      "cell_type": "markdown",
      "source": [
        "Eliminar las columnas que no se utilizaran para la clasificación"
      ],
      "metadata": {
        "id": "JwYw2AFItRA7"
      }
    },
    {
      "cell_type": "markdown",
      "source": [
        "*En este caso deberíamos conservar la actividad respectiva y las variables asociadas al acelerómetro*\n"
      ],
      "metadata": {
        "id": "l5f6m2ybf6TI"
      }
    },
    {
      "cell_type": "code",
      "source": [
        "wisdm_culled = wisdm.drop(columns=[\"user\", \"timestamp\"])\n",
        "wisdm_culled.info()"
      ],
      "metadata": {
        "colab": {
          "base_uri": "https://localhost:8080/"
        },
        "id": "EYSE59VxaIuM",
        "outputId": "8152bb94-fb54-461c-c820-46bd3b2ebcfc"
      },
      "execution_count": 163,
      "outputs": [
        {
          "output_type": "stream",
          "name": "stdout",
          "text": [
            "<class 'pandas.core.frame.DataFrame'>\n",
            "Int64Index: 1086465 entries, 0 to 1086465\n",
            "Data columns (total 4 columns):\n",
            " #   Column    Non-Null Count    Dtype  \n",
            "---  ------    --------------    -----  \n",
            " 0   activity  1086465 non-null  object \n",
            " 1   x-accel   1086465 non-null  float64\n",
            " 2   y-accel   1086465 non-null  float64\n",
            " 3   z-accel   1086465 non-null  float64\n",
            "dtypes: float64(3), object(1)\n",
            "memory usage: 41.4+ MB\n"
          ]
        }
      ]
    },
    {
      "cell_type": "markdown",
      "source": [
        "Utilizar el comando *value_counts* para obtener un detalle de cuantas instancias se tienen por actividad. El objetivo consiste en identificar la presencia del balance o desbalance en las categorías a modelar\n"
      ],
      "metadata": {
        "id": "JTZlcpNpsokk"
      }
    },
    {
      "cell_type": "code",
      "source": [
        "wisdm_culled[\"activity\"].value_counts()"
      ],
      "metadata": {
        "colab": {
          "base_uri": "https://localhost:8080/"
        },
        "id": "Pamu19LkYc3h",
        "outputId": "824e37c1-ed1b-409b-8da3-5b02c71a7635"
      },
      "execution_count": 164,
      "outputs": [
        {
          "output_type": "execute_result",
          "data": {
            "text/plain": [
              "Walking       418393\n",
              "Jogging       336445\n",
              "Upstairs      122869\n",
              "Downstairs    100425\n",
              "Sitting        59939\n",
              "Standing       48394\n",
              "Name: activity, dtype: int64"
            ]
          },
          "metadata": {},
          "execution_count": 164
        }
      ]
    },
    {
      "cell_type": "markdown",
      "source": [
        "Este proyecto considera datos con un desbalance de clases. Es necesario balancearlos para que los modelos operen de manera adecuada. Existen muchas maneras de realizar un balance, pero en este proyecto utilizaremos una estrategia sencilla e intuitiva. Simplemente debe identificar la actividad que contenga el número menor de instancias. Se debe realizar un muestreo para las otras actividades utilizando ese valor. De esta manera todas las clases tendrán la misma cantidad de instancias. \n",
        "\n"
      ],
      "metadata": {
        "id": "AKQbyMqtg4eZ"
      }
    },
    {
      "cell_type": "code",
      "source": [
        "# Se separan los datos de distintos valores\n",
        "walking = wisdm_culled[wisdm_culled[\"activity\"] == \"Walking\"]\n",
        "jogging  = wisdm_culled[wisdm_culled[\"activity\"] == \"Jogging\"]\n",
        "upstairs = wisdm_culled[wisdm_culled[\"activity\"] == \"Upstairs\"]\n",
        "downstairs = wisdm_culled[wisdm_culled[\"activity\"] == \"Downstairs\"]\n",
        "sitting = wisdm_culled[wisdm_culled[\"activity\"] == \"Sitting\"]\n",
        "standing = wisdm_culled[wisdm_culled[\"activity\"] == \"Standing\"]\n",
        "\n",
        "# Para cada valor, se selecciona una cantidad equivalente \n",
        "# al numero de instancias \"Standing\"\n",
        "walking = walking.head(len(standing))\n",
        "jogging = jogging.head(len(standing))\n",
        "upstairs = upstairs.head(len(standing))\n",
        "downstairs = downstairs.head(len(standing))\n",
        "sitting = sitting.head(len(standing))\n",
        "\n",
        "# Se concatenan los dataframes reducidos\n",
        "wisdm_culled_downsampled = pd.concat([walking, jogging, upstairs, downstairs, sitting, standing])"
      ],
      "metadata": {
        "id": "7eEhSD4LhaVK"
      },
      "execution_count": 165,
      "outputs": []
    },
    {
      "cell_type": "markdown",
      "source": [
        "Establecer el número de instancias y dimensiones del data frame resultante *(shape)*\n"
      ],
      "metadata": {
        "id": "e9g4bruQha3L"
      }
    },
    {
      "cell_type": "code",
      "source": [
        "wisdm_culled_downsampled.shape"
      ],
      "metadata": {
        "colab": {
          "base_uri": "https://localhost:8080/"
        },
        "id": "auE8LmO4aBYY",
        "outputId": "81ab92b6-4df6-478f-b124-8cf9822ca845"
      },
      "execution_count": 166,
      "outputs": [
        {
          "output_type": "execute_result",
          "data": {
            "text/plain": [
              "(290364, 4)"
            ]
          },
          "metadata": {},
          "execution_count": 166
        }
      ]
    },
    {
      "cell_type": "markdown",
      "source": [
        "Volver a imprimir la cantidad de instancias por categoría para verificar que todo esté en orden. *(value_counts)*"
      ],
      "metadata": {
        "id": "HQoPlP_Ptk4t"
      }
    },
    {
      "cell_type": "code",
      "source": [
        "wisdm_culled_downsampled[\"activity\"].value_counts()"
      ],
      "metadata": {
        "colab": {
          "base_uri": "https://localhost:8080/"
        },
        "id": "o0LWa6K5aNKg",
        "outputId": "063ca0ca-0f4b-455d-e854-69ea920adaee"
      },
      "execution_count": 167,
      "outputs": [
        {
          "output_type": "execute_result",
          "data": {
            "text/plain": [
              "Walking       48394\n",
              "Jogging       48394\n",
              "Upstairs      48394\n",
              "Downstairs    48394\n",
              "Sitting       48394\n",
              "Standing      48394\n",
              "Name: activity, dtype: int64"
            ]
          },
          "metadata": {},
          "execution_count": 167
        }
      ]
    },
    {
      "cell_type": "markdown",
      "source": [
        "Volver a visualizar las cinco primeras líneas del DataFrame para revisar que todo esté en orden *(head)*\n"
      ],
      "metadata": {
        "id": "INea3Vhah4Zq"
      }
    },
    {
      "cell_type": "code",
      "source": [
        "wisdm_culled_downsampled.head()"
      ],
      "metadata": {
        "colab": {
          "base_uri": "https://localhost:8080/",
          "height": 206
        },
        "id": "vQ1qF5mDaP8o",
        "outputId": "2ca165a8-9202-40e8-ce1c-03af22ca7bb3"
      },
      "execution_count": 168,
      "outputs": [
        {
          "output_type": "execute_result",
          "data": {
            "text/plain": [
              "    activity   x-accel    y-accel   z-accel\n",
              "597  Walking  0.844462   8.008764  2.792171\n",
              "598  Walking  1.116869   8.621680  3.786457\n",
              "599  Walking -0.503953  16.657684  1.307553\n",
              "600  Walking  4.794363  10.760075 -1.184970\n",
              "601  Walking -0.040861   9.234595 -0.694638"
            ],
            "text/html": [
              "\n",
              "  <div id=\"df-febbc63b-451b-4810-ab8b-61aab1cb02b1\">\n",
              "    <div class=\"colab-df-container\">\n",
              "      <div>\n",
              "<style scoped>\n",
              "    .dataframe tbody tr th:only-of-type {\n",
              "        vertical-align: middle;\n",
              "    }\n",
              "\n",
              "    .dataframe tbody tr th {\n",
              "        vertical-align: top;\n",
              "    }\n",
              "\n",
              "    .dataframe thead th {\n",
              "        text-align: right;\n",
              "    }\n",
              "</style>\n",
              "<table border=\"1\" class=\"dataframe\">\n",
              "  <thead>\n",
              "    <tr style=\"text-align: right;\">\n",
              "      <th></th>\n",
              "      <th>activity</th>\n",
              "      <th>x-accel</th>\n",
              "      <th>y-accel</th>\n",
              "      <th>z-accel</th>\n",
              "    </tr>\n",
              "  </thead>\n",
              "  <tbody>\n",
              "    <tr>\n",
              "      <th>597</th>\n",
              "      <td>Walking</td>\n",
              "      <td>0.844462</td>\n",
              "      <td>8.008764</td>\n",
              "      <td>2.792171</td>\n",
              "    </tr>\n",
              "    <tr>\n",
              "      <th>598</th>\n",
              "      <td>Walking</td>\n",
              "      <td>1.116869</td>\n",
              "      <td>8.621680</td>\n",
              "      <td>3.786457</td>\n",
              "    </tr>\n",
              "    <tr>\n",
              "      <th>599</th>\n",
              "      <td>Walking</td>\n",
              "      <td>-0.503953</td>\n",
              "      <td>16.657684</td>\n",
              "      <td>1.307553</td>\n",
              "    </tr>\n",
              "    <tr>\n",
              "      <th>600</th>\n",
              "      <td>Walking</td>\n",
              "      <td>4.794363</td>\n",
              "      <td>10.760075</td>\n",
              "      <td>-1.184970</td>\n",
              "    </tr>\n",
              "    <tr>\n",
              "      <th>601</th>\n",
              "      <td>Walking</td>\n",
              "      <td>-0.040861</td>\n",
              "      <td>9.234595</td>\n",
              "      <td>-0.694638</td>\n",
              "    </tr>\n",
              "  </tbody>\n",
              "</table>\n",
              "</div>\n",
              "      <button class=\"colab-df-convert\" onclick=\"convertToInteractive('df-febbc63b-451b-4810-ab8b-61aab1cb02b1')\"\n",
              "              title=\"Convert this dataframe to an interactive table.\"\n",
              "              style=\"display:none;\">\n",
              "        \n",
              "  <svg xmlns=\"http://www.w3.org/2000/svg\" height=\"24px\"viewBox=\"0 0 24 24\"\n",
              "       width=\"24px\">\n",
              "    <path d=\"M0 0h24v24H0V0z\" fill=\"none\"/>\n",
              "    <path d=\"M18.56 5.44l.94 2.06.94-2.06 2.06-.94-2.06-.94-.94-2.06-.94 2.06-2.06.94zm-11 1L8.5 8.5l.94-2.06 2.06-.94-2.06-.94L8.5 2.5l-.94 2.06-2.06.94zm10 10l.94 2.06.94-2.06 2.06-.94-2.06-.94-.94-2.06-.94 2.06-2.06.94z\"/><path d=\"M17.41 7.96l-1.37-1.37c-.4-.4-.92-.59-1.43-.59-.52 0-1.04.2-1.43.59L10.3 9.45l-7.72 7.72c-.78.78-.78 2.05 0 2.83L4 21.41c.39.39.9.59 1.41.59.51 0 1.02-.2 1.41-.59l7.78-7.78 2.81-2.81c.8-.78.8-2.07 0-2.86zM5.41 20L4 18.59l7.72-7.72 1.47 1.35L5.41 20z\"/>\n",
              "  </svg>\n",
              "      </button>\n",
              "      \n",
              "  <style>\n",
              "    .colab-df-container {\n",
              "      display:flex;\n",
              "      flex-wrap:wrap;\n",
              "      gap: 12px;\n",
              "    }\n",
              "\n",
              "    .colab-df-convert {\n",
              "      background-color: #E8F0FE;\n",
              "      border: none;\n",
              "      border-radius: 50%;\n",
              "      cursor: pointer;\n",
              "      display: none;\n",
              "      fill: #1967D2;\n",
              "      height: 32px;\n",
              "      padding: 0 0 0 0;\n",
              "      width: 32px;\n",
              "    }\n",
              "\n",
              "    .colab-df-convert:hover {\n",
              "      background-color: #E2EBFA;\n",
              "      box-shadow: 0px 1px 2px rgba(60, 64, 67, 0.3), 0px 1px 3px 1px rgba(60, 64, 67, 0.15);\n",
              "      fill: #174EA6;\n",
              "    }\n",
              "\n",
              "    [theme=dark] .colab-df-convert {\n",
              "      background-color: #3B4455;\n",
              "      fill: #D2E3FC;\n",
              "    }\n",
              "\n",
              "    [theme=dark] .colab-df-convert:hover {\n",
              "      background-color: #434B5C;\n",
              "      box-shadow: 0px 1px 3px 1px rgba(0, 0, 0, 0.15);\n",
              "      filter: drop-shadow(0px 1px 2px rgba(0, 0, 0, 0.3));\n",
              "      fill: #FFFFFF;\n",
              "    }\n",
              "  </style>\n",
              "\n",
              "      <script>\n",
              "        const buttonEl =\n",
              "          document.querySelector('#df-febbc63b-451b-4810-ab8b-61aab1cb02b1 button.colab-df-convert');\n",
              "        buttonEl.style.display =\n",
              "          google.colab.kernel.accessAllowed ? 'block' : 'none';\n",
              "\n",
              "        async function convertToInteractive(key) {\n",
              "          const element = document.querySelector('#df-febbc63b-451b-4810-ab8b-61aab1cb02b1');\n",
              "          const dataTable =\n",
              "            await google.colab.kernel.invokeFunction('convertToInteractive',\n",
              "                                                     [key], {});\n",
              "          if (!dataTable) return;\n",
              "\n",
              "          const docLinkHtml = 'Like what you see? Visit the ' +\n",
              "            '<a target=\"_blank\" href=https://colab.research.google.com/notebooks/data_table.ipynb>data table notebook</a>'\n",
              "            + ' to learn more about interactive tables.';\n",
              "          element.innerHTML = '';\n",
              "          dataTable['output_type'] = 'display_data';\n",
              "          await google.colab.output.renderOutput(dataTable, element);\n",
              "          const docLink = document.createElement('div');\n",
              "          docLink.innerHTML = docLinkHtml;\n",
              "          element.appendChild(docLink);\n",
              "        }\n",
              "      </script>\n",
              "    </div>\n",
              "  </div>\n",
              "  "
            ]
          },
          "metadata": {},
          "execution_count": 168
        }
      ]
    },
    {
      "cell_type": "markdown",
      "source": [
        "Separar las variables predictoras (X) de las ctegorias o etiquetas (y)"
      ],
      "metadata": {
        "id": "Jqcw16VquzrB"
      }
    },
    {
      "cell_type": "code",
      "source": [
        "X = wisdm_culled_downsampled[[\"x-accel\", \"y-accel\", \"z-accel\"]]\n",
        "y = wisdm_culled_downsampled[[\"activity\"]]"
      ],
      "metadata": {
        "id": "bo_1huJUaa2w"
      },
      "execution_count": 169,
      "outputs": []
    },
    {
      "cell_type": "markdown",
      "source": [
        "Estandarizar los datos numericos (*StandardScaler)*"
      ],
      "metadata": {
        "id": "pj6Wwp3uvKJ-"
      }
    },
    {
      "cell_type": "markdown",
      "source": [
        "*Para el caso de la estandarización de los datos se pueden usar distintas técnicas, como la normalización 01, estandarización entre -1 y 1 o el denominado Z-Score. En este caso usaremos la función Standard Scaler de Python con sus valores por defecto.*\n"
      ],
      "metadata": {
        "id": "Mbl2LcmTkZ9p"
      }
    },
    {
      "cell_type": "code",
      "source": [
        "sc_x = StandardScaler()\n",
        "\n",
        "X = sc_x.fit_transform(X)\n",
        "X"
      ],
      "metadata": {
        "colab": {
          "base_uri": "https://localhost:8080/"
        },
        "id": "8ApXgZcha1Hc",
        "outputId": "3b444cb8-3502-48ab-b678-46e160e7cc18"
      },
      "execution_count": 170,
      "outputs": [
        {
          "output_type": "execute_result",
          "data": {
            "text/plain": [
              "array([[-0.03449447,  0.0769677 ,  0.2664932 ],\n",
              "       [ 0.01727895,  0.18754729,  0.49575718],\n",
              "       [-0.29077293,  1.63736749, -0.07583245],\n",
              "       ...,\n",
              "       [-1.06166167,  0.16559432, -0.58254798],\n",
              "       [-1.04645694,  0.17281094, -0.62635849],\n",
              "       [-1.13388413,  0.1259029 , -0.57101889]])"
            ]
          },
          "metadata": {},
          "execution_count": 170
        }
      ]
    },
    {
      "cell_type": "markdown",
      "source": [
        "Como último paso debe reconstruir el dataframe pegando las columnas de los variables predicadores (X) y las categorías (y)\n"
      ],
      "metadata": {
        "id": "P8mGGNQ9j3Fy"
      }
    },
    {
      "cell_type": "code",
      "source": [
        "wisdm_reconstructed = pd.merge(y, pd.DataFrame(X, columns=[\"x-accel\", \"y-accel\", \"z-accel\"]), left_index=True, right_index=True)\n",
        "wisdm_reconstructed.head()"
      ],
      "metadata": {
        "colab": {
          "base_uri": "https://localhost:8080/",
          "height": 206
        },
        "id": "AfRKJeZ9Greo",
        "outputId": "61ea5e94-588f-48a8-e0cf-083c8f79c927"
      },
      "execution_count": 171,
      "outputs": [
        {
          "output_type": "execute_result",
          "data": {
            "text/plain": [
              "    activity   x-accel   y-accel   z-accel\n",
              "597  Walking -0.086268  0.386590 -0.173191\n",
              "598  Walking  1.013917  0.782220 -0.474689\n",
              "599  Walking  0.097528  0.740445 -0.747921\n",
              "600  Walking -0.383965  1.416209 -0.210878\n",
              "601  Walking -0.391731 -0.898589 -0.509236"
            ],
            "text/html": [
              "\n",
              "  <div id=\"df-0427b5fe-01bd-48a7-9c4e-e12674e98a43\">\n",
              "    <div class=\"colab-df-container\">\n",
              "      <div>\n",
              "<style scoped>\n",
              "    .dataframe tbody tr th:only-of-type {\n",
              "        vertical-align: middle;\n",
              "    }\n",
              "\n",
              "    .dataframe tbody tr th {\n",
              "        vertical-align: top;\n",
              "    }\n",
              "\n",
              "    .dataframe thead th {\n",
              "        text-align: right;\n",
              "    }\n",
              "</style>\n",
              "<table border=\"1\" class=\"dataframe\">\n",
              "  <thead>\n",
              "    <tr style=\"text-align: right;\">\n",
              "      <th></th>\n",
              "      <th>activity</th>\n",
              "      <th>x-accel</th>\n",
              "      <th>y-accel</th>\n",
              "      <th>z-accel</th>\n",
              "    </tr>\n",
              "  </thead>\n",
              "  <tbody>\n",
              "    <tr>\n",
              "      <th>597</th>\n",
              "      <td>Walking</td>\n",
              "      <td>-0.086268</td>\n",
              "      <td>0.386590</td>\n",
              "      <td>-0.173191</td>\n",
              "    </tr>\n",
              "    <tr>\n",
              "      <th>598</th>\n",
              "      <td>Walking</td>\n",
              "      <td>1.013917</td>\n",
              "      <td>0.782220</td>\n",
              "      <td>-0.474689</td>\n",
              "    </tr>\n",
              "    <tr>\n",
              "      <th>599</th>\n",
              "      <td>Walking</td>\n",
              "      <td>0.097528</td>\n",
              "      <td>0.740445</td>\n",
              "      <td>-0.747921</td>\n",
              "    </tr>\n",
              "    <tr>\n",
              "      <th>600</th>\n",
              "      <td>Walking</td>\n",
              "      <td>-0.383965</td>\n",
              "      <td>1.416209</td>\n",
              "      <td>-0.210878</td>\n",
              "    </tr>\n",
              "    <tr>\n",
              "      <th>601</th>\n",
              "      <td>Walking</td>\n",
              "      <td>-0.391731</td>\n",
              "      <td>-0.898589</td>\n",
              "      <td>-0.509236</td>\n",
              "    </tr>\n",
              "  </tbody>\n",
              "</table>\n",
              "</div>\n",
              "      <button class=\"colab-df-convert\" onclick=\"convertToInteractive('df-0427b5fe-01bd-48a7-9c4e-e12674e98a43')\"\n",
              "              title=\"Convert this dataframe to an interactive table.\"\n",
              "              style=\"display:none;\">\n",
              "        \n",
              "  <svg xmlns=\"http://www.w3.org/2000/svg\" height=\"24px\"viewBox=\"0 0 24 24\"\n",
              "       width=\"24px\">\n",
              "    <path d=\"M0 0h24v24H0V0z\" fill=\"none\"/>\n",
              "    <path d=\"M18.56 5.44l.94 2.06.94-2.06 2.06-.94-2.06-.94-.94-2.06-.94 2.06-2.06.94zm-11 1L8.5 8.5l.94-2.06 2.06-.94-2.06-.94L8.5 2.5l-.94 2.06-2.06.94zm10 10l.94 2.06.94-2.06 2.06-.94-2.06-.94-.94-2.06-.94 2.06-2.06.94z\"/><path d=\"M17.41 7.96l-1.37-1.37c-.4-.4-.92-.59-1.43-.59-.52 0-1.04.2-1.43.59L10.3 9.45l-7.72 7.72c-.78.78-.78 2.05 0 2.83L4 21.41c.39.39.9.59 1.41.59.51 0 1.02-.2 1.41-.59l7.78-7.78 2.81-2.81c.8-.78.8-2.07 0-2.86zM5.41 20L4 18.59l7.72-7.72 1.47 1.35L5.41 20z\"/>\n",
              "  </svg>\n",
              "      </button>\n",
              "      \n",
              "  <style>\n",
              "    .colab-df-container {\n",
              "      display:flex;\n",
              "      flex-wrap:wrap;\n",
              "      gap: 12px;\n",
              "    }\n",
              "\n",
              "    .colab-df-convert {\n",
              "      background-color: #E8F0FE;\n",
              "      border: none;\n",
              "      border-radius: 50%;\n",
              "      cursor: pointer;\n",
              "      display: none;\n",
              "      fill: #1967D2;\n",
              "      height: 32px;\n",
              "      padding: 0 0 0 0;\n",
              "      width: 32px;\n",
              "    }\n",
              "\n",
              "    .colab-df-convert:hover {\n",
              "      background-color: #E2EBFA;\n",
              "      box-shadow: 0px 1px 2px rgba(60, 64, 67, 0.3), 0px 1px 3px 1px rgba(60, 64, 67, 0.15);\n",
              "      fill: #174EA6;\n",
              "    }\n",
              "\n",
              "    [theme=dark] .colab-df-convert {\n",
              "      background-color: #3B4455;\n",
              "      fill: #D2E3FC;\n",
              "    }\n",
              "\n",
              "    [theme=dark] .colab-df-convert:hover {\n",
              "      background-color: #434B5C;\n",
              "      box-shadow: 0px 1px 3px 1px rgba(0, 0, 0, 0.15);\n",
              "      filter: drop-shadow(0px 1px 2px rgba(0, 0, 0, 0.3));\n",
              "      fill: #FFFFFF;\n",
              "    }\n",
              "  </style>\n",
              "\n",
              "      <script>\n",
              "        const buttonEl =\n",
              "          document.querySelector('#df-0427b5fe-01bd-48a7-9c4e-e12674e98a43 button.colab-df-convert');\n",
              "        buttonEl.style.display =\n",
              "          google.colab.kernel.accessAllowed ? 'block' : 'none';\n",
              "\n",
              "        async function convertToInteractive(key) {\n",
              "          const element = document.querySelector('#df-0427b5fe-01bd-48a7-9c4e-e12674e98a43');\n",
              "          const dataTable =\n",
              "            await google.colab.kernel.invokeFunction('convertToInteractive',\n",
              "                                                     [key], {});\n",
              "          if (!dataTable) return;\n",
              "\n",
              "          const docLinkHtml = 'Like what you see? Visit the ' +\n",
              "            '<a target=\"_blank\" href=https://colab.research.google.com/notebooks/data_table.ipynb>data table notebook</a>'\n",
              "            + ' to learn more about interactive tables.';\n",
              "          element.innerHTML = '';\n",
              "          dataTable['output_type'] = 'display_data';\n",
              "          await google.colab.output.renderOutput(dataTable, element);\n",
              "          const docLink = document.createElement('div');\n",
              "          docLink.innerHTML = docLinkHtml;\n",
              "          element.appendChild(docLink);\n",
              "        }\n",
              "      </script>\n",
              "    </div>\n",
              "  </div>\n",
              "  "
            ]
          },
          "metadata": {},
          "execution_count": 171
        }
      ]
    }
  ]
}